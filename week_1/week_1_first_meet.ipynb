{
 "cells": [
  {
   "cell_type": "code",
   "execution_count": 16,
   "metadata": {},
   "outputs": [],
   "source": [
    "import pandas as pd\n",
    "import numpy as np"
   ]
  },
  {
   "cell_type": "code",
   "execution_count": 4,
   "metadata": {},
   "outputs": [],
   "source": [
    "df = pd.read_csv('Ntu_Orders.csv')"
   ]
  },
  {
   "cell_type": "code",
   "execution_count": 5,
   "metadata": {},
   "outputs": [
    {
     "data": {
      "text/html": [
       "<div>\n",
       "<table border=\"1\" class=\"dataframe\">\n",
       "  <thead>\n",
       "    <tr style=\"text-align: right;\">\n",
       "      <th></th>\n",
       "      <th>SalesOrderSlaveId</th>\n",
       "      <th>DateId</th>\n",
       "      <th>MemberId</th>\n",
       "      <th>TradesOrderSlaveId</th>\n",
       "      <th>ShopId</th>\n",
       "      <th>SalePageId</th>\n",
       "      <th>TradesOrderGroupCode</th>\n",
       "      <th>TrackSourceTypeDef</th>\n",
       "      <th>TrackChannelTypeDef</th>\n",
       "      <th>TrackDeviceTypeDef</th>\n",
       "      <th>...</th>\n",
       "      <th>UnitPrice</th>\n",
       "      <th>PromotionDiscount</th>\n",
       "      <th>EcouponDiscount</th>\n",
       "      <th>SalesOrderSlaveTotalPayment</th>\n",
       "      <th>SalesOrderSlaveDateTime</th>\n",
       "      <th>SalesOrderSlaveStatusDef</th>\n",
       "      <th>PayProfileTypeDef</th>\n",
       "      <th>ShippingProfileTypeDef</th>\n",
       "      <th>EcouponId</th>\n",
       "      <th>IsSalePageGift</th>\n",
       "    </tr>\n",
       "  </thead>\n",
       "  <tbody>\n",
       "    <tr>\n",
       "      <th>0</th>\n",
       "      <td>26914456</td>\n",
       "      <td>20170103</td>\n",
       "      <td>48D5DE26-236E-4854-8474-B0DCEAFF4F42</td>\n",
       "      <td>26971960</td>\n",
       "      <td>1317</td>\n",
       "      <td>9804</td>\n",
       "      <td>b'q\\x14\\xa49\\xaa\\\\\\xecs\\xff6wH\\xfbXd\\x93\\xfbf\\...</td>\n",
       "      <td>Web</td>\n",
       "      <td>Brand</td>\n",
       "      <td>Mobile</td>\n",
       "      <td>...</td>\n",
       "      <td>399.0</td>\n",
       "      <td>-25.0</td>\n",
       "      <td>0.0</td>\n",
       "      <td>374.0</td>\n",
       "      <td>2017-01-03 23:11:47.207</td>\n",
       "      <td>Finish</td>\n",
       "      <td>SevenEleven</td>\n",
       "      <td>SevenEleven</td>\n",
       "      <td>NaN</td>\n",
       "      <td>False</td>\n",
       "    </tr>\n",
       "    <tr>\n",
       "      <th>1</th>\n",
       "      <td>26914457</td>\n",
       "      <td>20170103</td>\n",
       "      <td>48D5DE26-236E-4854-8474-B0DCEAFF4F42</td>\n",
       "      <td>26971961</td>\n",
       "      <td>1317</td>\n",
       "      <td>9804</td>\n",
       "      <td>b'q\\x14\\xa49\\xaa\\\\\\xecs\\xff6wH\\xfbXd\\x93\\xfbf\\...</td>\n",
       "      <td>Web</td>\n",
       "      <td>Brand</td>\n",
       "      <td>Mobile</td>\n",
       "      <td>...</td>\n",
       "      <td>399.0</td>\n",
       "      <td>-25.0</td>\n",
       "      <td>0.0</td>\n",
       "      <td>374.0</td>\n",
       "      <td>2017-01-03 23:11:47.223</td>\n",
       "      <td>Finish</td>\n",
       "      <td>SevenEleven</td>\n",
       "      <td>SevenEleven</td>\n",
       "      <td>NaN</td>\n",
       "      <td>False</td>\n",
       "    </tr>\n",
       "    <tr>\n",
       "      <th>2</th>\n",
       "      <td>26767644</td>\n",
       "      <td>20170101</td>\n",
       "      <td>C8B989DB-05F9-42D3-BD4F-E203482C5E58</td>\n",
       "      <td>26825136</td>\n",
       "      <td>1317</td>\n",
       "      <td>10118</td>\n",
       "      <td>b'\\x1d\\x8f}\\x12lu&gt;.&amp;\\xfc\\xbc\\xe0\\xd2\\xad\\xe5\\x...</td>\n",
       "      <td>Web</td>\n",
       "      <td>Brand</td>\n",
       "      <td>Mobile</td>\n",
       "      <td>...</td>\n",
       "      <td>350.0</td>\n",
       "      <td>-34.0</td>\n",
       "      <td>0.0</td>\n",
       "      <td>316.0</td>\n",
       "      <td>2017-01-01 17:21:32.113</td>\n",
       "      <td>Finish</td>\n",
       "      <td>Family</td>\n",
       "      <td>Family</td>\n",
       "      <td>NaN</td>\n",
       "      <td>False</td>\n",
       "    </tr>\n",
       "    <tr>\n",
       "      <th>3</th>\n",
       "      <td>26780512</td>\n",
       "      <td>20170101</td>\n",
       "      <td>C39E36F7-5091-48DA-BE8F-8CE043E009EE</td>\n",
       "      <td>26837997</td>\n",
       "      <td>1317</td>\n",
       "      <td>10036</td>\n",
       "      <td>b'&amp;QI#u)\\xf8\\xf7\\n6\\x01~\\xd1\\xf3,\\x1f\\xb8\\xe3\\...</td>\n",
       "      <td>Web</td>\n",
       "      <td>Brand</td>\n",
       "      <td>Mobile</td>\n",
       "      <td>...</td>\n",
       "      <td>540.0</td>\n",
       "      <td>-57.0</td>\n",
       "      <td>0.0</td>\n",
       "      <td>483.0</td>\n",
       "      <td>2017-01-01 21:41:58.153</td>\n",
       "      <td>Finish</td>\n",
       "      <td>Family</td>\n",
       "      <td>Family</td>\n",
       "      <td>NaN</td>\n",
       "      <td>False</td>\n",
       "    </tr>\n",
       "    <tr>\n",
       "      <th>4</th>\n",
       "      <td>26823950</td>\n",
       "      <td>20170102</td>\n",
       "      <td>7D87099A-B49C-4136-A8E9-F76BB5588B19</td>\n",
       "      <td>26881442</td>\n",
       "      <td>1317</td>\n",
       "      <td>10268</td>\n",
       "      <td>b'\\xfd\\x0b\\x9ee\\xdc\\xaea@\\x102;jX\\xfek\\x99m\\x1...</td>\n",
       "      <td>Web</td>\n",
       "      <td>Brand</td>\n",
       "      <td>Mobile</td>\n",
       "      <td>...</td>\n",
       "      <td>445.0</td>\n",
       "      <td>-44.0</td>\n",
       "      <td>0.0</td>\n",
       "      <td>401.0</td>\n",
       "      <td>2017-01-02 15:37:33.610</td>\n",
       "      <td>Finish</td>\n",
       "      <td>Family</td>\n",
       "      <td>Family</td>\n",
       "      <td>NaN</td>\n",
       "      <td>False</td>\n",
       "    </tr>\n",
       "  </tbody>\n",
       "</table>\n",
       "<p>5 rows × 27 columns</p>\n",
       "</div>"
      ],
      "text/plain": [
       "   SalesOrderSlaveId    DateId                              MemberId  \\\n",
       "0           26914456  20170103  48D5DE26-236E-4854-8474-B0DCEAFF4F42   \n",
       "1           26914457  20170103  48D5DE26-236E-4854-8474-B0DCEAFF4F42   \n",
       "2           26767644  20170101  C8B989DB-05F9-42D3-BD4F-E203482C5E58   \n",
       "3           26780512  20170101  C39E36F7-5091-48DA-BE8F-8CE043E009EE   \n",
       "4           26823950  20170102  7D87099A-B49C-4136-A8E9-F76BB5588B19   \n",
       "\n",
       "   TradesOrderSlaveId  ShopId  SalePageId  \\\n",
       "0            26971960    1317        9804   \n",
       "1            26971961    1317        9804   \n",
       "2            26825136    1317       10118   \n",
       "3            26837997    1317       10036   \n",
       "4            26881442    1317       10268   \n",
       "\n",
       "                                TradesOrderGroupCode TrackSourceTypeDef  \\\n",
       "0  b'q\\x14\\xa49\\xaa\\\\\\xecs\\xff6wH\\xfbXd\\x93\\xfbf\\...                Web   \n",
       "1  b'q\\x14\\xa49\\xaa\\\\\\xecs\\xff6wH\\xfbXd\\x93\\xfbf\\...                Web   \n",
       "2  b'\\x1d\\x8f}\\x12lu>.&\\xfc\\xbc\\xe0\\xd2\\xad\\xe5\\x...                Web   \n",
       "3  b'&QI#u)\\xf8\\xf7\\n6\\x01~\\xd1\\xf3,\\x1f\\xb8\\xe3\\...                Web   \n",
       "4  b'\\xfd\\x0b\\x9ee\\xdc\\xaea@\\x102;jX\\xfek\\x99m\\x1...                Web   \n",
       "\n",
       "  TrackChannelTypeDef TrackDeviceTypeDef       ...       UnitPrice  \\\n",
       "0               Brand             Mobile       ...           399.0   \n",
       "1               Brand             Mobile       ...           399.0   \n",
       "2               Brand             Mobile       ...           350.0   \n",
       "3               Brand             Mobile       ...           540.0   \n",
       "4               Brand             Mobile       ...           445.0   \n",
       "\n",
       "  PromotionDiscount EcouponDiscount SalesOrderSlaveTotalPayment  \\\n",
       "0             -25.0             0.0                       374.0   \n",
       "1             -25.0             0.0                       374.0   \n",
       "2             -34.0             0.0                       316.0   \n",
       "3             -57.0             0.0                       483.0   \n",
       "4             -44.0             0.0                       401.0   \n",
       "\n",
       "   SalesOrderSlaveDateTime SalesOrderSlaveStatusDef  PayProfileTypeDef  \\\n",
       "0  2017-01-03 23:11:47.207                   Finish        SevenEleven   \n",
       "1  2017-01-03 23:11:47.223                   Finish        SevenEleven   \n",
       "2  2017-01-01 17:21:32.113                   Finish             Family   \n",
       "3  2017-01-01 21:41:58.153                   Finish             Family   \n",
       "4  2017-01-02 15:37:33.610                   Finish             Family   \n",
       "\n",
       "   ShippingProfileTypeDef  EcouponId  IsSalePageGift  \n",
       "0             SevenEleven        NaN           False  \n",
       "1             SevenEleven        NaN           False  \n",
       "2                  Family        NaN           False  \n",
       "3                  Family        NaN           False  \n",
       "4                  Family        NaN           False  \n",
       "\n",
       "[5 rows x 27 columns]"
      ]
     },
     "execution_count": 5,
     "metadata": {},
     "output_type": "execute_result"
    }
   ],
   "source": [
    "df.head()"
   ]
  },
  {
   "cell_type": "code",
   "execution_count": 6,
   "metadata": {},
   "outputs": [
    {
     "name": "stdout",
     "output_type": "stream",
     "text": [
      "<class 'pandas.core.frame.DataFrame'>\n",
      "RangeIndex: 2268348 entries, 0 to 2268347\n",
      "Data columns (total 27 columns):\n",
      "SalesOrderSlaveId              int64\n",
      "DateId                         int64\n",
      "MemberId                       object\n",
      "TradesOrderSlaveId             int64\n",
      "ShopId                         int64\n",
      "SalePageId                     int64\n",
      "TradesOrderGroupCode           object\n",
      "TrackSourceTypeDef             object\n",
      "TrackChannelTypeDef            object\n",
      "TrackDeviceTypeDef             object\n",
      "LevelOneCategoryName           object\n",
      "LevelTwoCategoryName           object\n",
      "LevelThreeCategoryName         object\n",
      "LevelFourCategoryName          object\n",
      "IsMajor                        bool\n",
      "IsGift                         bool\n",
      "Quantity                       int64\n",
      "UnitPrice                      float64\n",
      "PromotionDiscount              float64\n",
      "EcouponDiscount                float64\n",
      "SalesOrderSlaveTotalPayment    float64\n",
      "SalesOrderSlaveDateTime        object\n",
      "SalesOrderSlaveStatusDef       object\n",
      "PayProfileTypeDef              object\n",
      "ShippingProfileTypeDef         object\n",
      "EcouponId                      float64\n",
      "IsSalePageGift                 bool\n",
      "dtypes: bool(3), float64(5), int64(6), object(13)\n",
      "memory usage: 309.3+ MB\n"
     ]
    }
   ],
   "source": [
    "df.info()"
   ]
  },
  {
   "cell_type": "code",
   "execution_count": 7,
   "metadata": {},
   "outputs": [
    {
     "data": {
      "text/plain": [
       "(2268348, 27)"
      ]
     },
     "execution_count": 7,
     "metadata": {},
     "output_type": "execute_result"
    }
   ],
   "source": [
    "df.shape"
   ]
  },
  {
   "cell_type": "code",
   "execution_count": 8,
   "metadata": {},
   "outputs": [
    {
     "data": {
      "text/plain": [
       "DateId\n",
       "20170101    3823\n",
       "20170102    5105\n",
       "20170103    3623\n",
       "20170104    2889\n",
       "20170105    2843\n",
       "20170106    2391\n",
       "20170107    2641\n",
       "20170108    2335\n",
       "20170109    2119\n",
       "20170110    2470\n",
       "Name: Quantity, dtype: int64"
      ]
     },
     "execution_count": 8,
     "metadata": {},
     "output_type": "execute_result"
    }
   ],
   "source": [
    "data = df.groupby(by='DateId')['Quantity'].sum()\n",
    "data.head(10)"
   ]
  },
  {
   "cell_type": "code",
   "execution_count": 9,
   "metadata": {},
   "outputs": [
    {
     "data": {
      "text/plain": [
       "<matplotlib.axes._subplots.AxesSubplot at 0x1190e510>"
      ]
     },
     "execution_count": 9,
     "metadata": {},
     "output_type": "execute_result"
    },
    {
     "data": {
      "image/png": "[encoded data removed]",
      "text/plain": [
       "<matplotlib.figure.Figure at 0x3275bc10>"
      ]
     },
     "metadata": {},
     "output_type": "display_data"
    }
   ],
   "source": [
    "%matplotlib inline\n",
    "data.plot()"
   ]
  },
  {
   "cell_type": "code",
   "execution_count": 10,
   "metadata": {},
   "outputs": [
    {
     "data": {
      "text/plain": [
       "0    1\n",
       "1    1\n",
       "2    1\n",
       "3    1\n",
       "4    1\n",
       "Name: Quantity, dtype: int64"
      ]
     },
     "execution_count": 10,
     "metadata": {},
     "output_type": "execute_result"
    }
   ],
   "source": [
    "df['Quantity'].head()"
   ]
  },
  {
   "cell_type": "code",
   "execution_count": 11,
   "metadata": {},
   "outputs": [
    {
     "data": {
      "text/plain": [
       "SalesOrderSlaveId                                                       26823950\n",
       "DateId                                                                  20170102\n",
       "MemberId                                    7D87099A-B49C-4136-A8E9-F76BB5588B19\n",
       "TradesOrderSlaveId                                                      26881442\n",
       "ShopId                                                                      1317\n",
       "SalePageId                                                                 10268\n",
       "TradesOrderGroupCode           b'\\xfd\\x0b\\x9ee\\xdc\\xaea@\\x102;jX\\xfek\\x99m\\x1...\n",
       "TrackSourceTypeDef                                                           Web\n",
       "TrackChannelTypeDef                                                        Brand\n",
       "TrackDeviceTypeDef                                                        Mobile\n",
       "LevelOneCategoryName                                                      服裝、內睡衣\n",
       "LevelTwoCategoryName                                                          女裝\n",
       "LevelThreeCategoryName                                                        上衣\n",
       "LevelFourCategoryName                                                         洋裝\n",
       "IsMajor                                                                     True\n",
       "IsGift                                                                     False\n",
       "Quantity                                                                       1\n",
       "UnitPrice                                                                    445\n",
       "PromotionDiscount                                                            -44\n",
       "EcouponDiscount                                                                0\n",
       "SalesOrderSlaveTotalPayment                                                  401\n",
       "SalesOrderSlaveDateTime                                  2017-01-02 15:37:33.610\n",
       "SalesOrderSlaveStatusDef                                                  Finish\n",
       "PayProfileTypeDef                                                         Family\n",
       "ShippingProfileTypeDef                                                    Family\n",
       "EcouponId                                                                    NaN\n",
       "IsSalePageGift                                                             False\n",
       "Name: 4, dtype: object"
      ]
     },
     "execution_count": 11,
     "metadata": {},
     "output_type": "execute_result"
    }
   ],
   "source": [
    "df.loc[4]"
   ]
  },
  {
   "cell_type": "code",
   "execution_count": 12,
   "metadata": {},
   "outputs": [],
   "source": [
    "df['new_DateId'] = pd.to_datetime(df['DateId'].astype(str), format='%Y%m%d')"
   ]
  },
  {
   "cell_type": "code",
   "execution_count": 13,
   "metadata": {},
   "outputs": [
    {
     "data": {
      "text/html": [
       "<div>\n",
       "<table border=\"1\" class=\"dataframe\">\n",
       "  <thead>\n",
       "    <tr style=\"text-align: right;\">\n",
       "      <th></th>\n",
       "      <th>new_DateId</th>\n",
       "      <th>Quantity</th>\n",
       "    </tr>\n",
       "  </thead>\n",
       "  <tbody>\n",
       "    <tr>\n",
       "      <th>1000</th>\n",
       "      <td>2017-12-26</td>\n",
       "      <td>1</td>\n",
       "    </tr>\n",
       "    <tr>\n",
       "      <th>1001</th>\n",
       "      <td>2017-12-28</td>\n",
       "      <td>1</td>\n",
       "    </tr>\n",
       "    <tr>\n",
       "      <th>1002</th>\n",
       "      <td>2017-12-28</td>\n",
       "      <td>1</td>\n",
       "    </tr>\n",
       "    <tr>\n",
       "      <th>1003</th>\n",
       "      <td>2017-12-31</td>\n",
       "      <td>1</td>\n",
       "    </tr>\n",
       "    <tr>\n",
       "      <th>1004</th>\n",
       "      <td>2017-12-31</td>\n",
       "      <td>1</td>\n",
       "    </tr>\n",
       "    <tr>\n",
       "      <th>1005</th>\n",
       "      <td>2018-01-04</td>\n",
       "      <td>1</td>\n",
       "    </tr>\n",
       "  </tbody>\n",
       "</table>\n",
       "</div>"
      ],
      "text/plain": [
       "     new_DateId  Quantity\n",
       "1000 2017-12-26         1\n",
       "1001 2017-12-28         1\n",
       "1002 2017-12-28         1\n",
       "1003 2017-12-31         1\n",
       "1004 2017-12-31         1\n",
       "1005 2018-01-04         1"
      ]
     },
     "execution_count": 13,
     "metadata": {},
     "output_type": "execute_result"
    }
   ],
   "source": [
    "df.loc[1000:1005, ['new_DateId', 'Quantity']]"
   ]
  },
  {
   "cell_type": "code",
   "execution_count": 14,
   "metadata": {},
   "outputs": [
    {
     "data": {
      "text/plain": [
       "new_DateId\n",
       "2017-01-01    3823\n",
       "2017-01-02    5105\n",
       "2017-01-03    3623\n",
       "2017-01-04    2889\n",
       "2017-01-05    2843\n",
       "2017-01-06    2391\n",
       "2017-01-07    2641\n",
       "2017-01-08    2335\n",
       "2017-01-09    2119\n",
       "2017-01-10    2470\n",
       "Name: Quantity, dtype: int64"
      ]
     },
     "execution_count": 14,
     "metadata": {},
     "output_type": "execute_result"
    }
   ],
   "source": [
    "data = df.groupby(by='new_DateId')['Quantity'].sum()\n",
    "data.head(10)"
   ]
  },
  {
   "cell_type": "code",
   "execution_count": 15,
   "metadata": {},
   "outputs": [
    {
     "data": {
      "text/plain": [
       "<matplotlib.axes._subplots.AxesSubplot at 0x133f2bf0>"
      ]
     },
     "execution_count": 15,
     "metadata": {},
     "output_type": "execute_result"
    },
    {
     "data": {
      "image/png": "[encoded data removed]",
      "text/plain": [
       "<matplotlib.figure.Figure at 0x134124b0>"
      ]
     },
     "metadata": {},
     "output_type": "display_data"
    }
   ],
   "source": [
    "%matplotlib inline\n",
    "data.plot() "
   ]
  },
  {
   "cell_type": "code",
   "execution_count": 18,
   "metadata": {},
   "outputs": [
    {
     "data": {
      "text/plain": [
       "count     2268348\n",
       "unique          3\n",
       "top           Web\n",
       "freq      1373629\n",
       "Name: TrackSourceTypeDef, dtype: object"
      ]
     },
     "execution_count": 18,
     "metadata": {},
     "output_type": "execute_result"
    }
   ],
   "source": [
    "df['TrackSourceTypeDef'].describe()"
   ]
  },
  {
   "cell_type": "code",
   "execution_count": 22,
   "metadata": {},
   "outputs": [
    {
     "data": {
      "text/plain": [
       "count     2268348\n",
       "unique          1\n",
       "top         Brand\n",
       "freq      2268348\n",
       "Name: TrackChannelTypeDef, dtype: object"
      ]
     },
     "execution_count": 22,
     "metadata": {},
     "output_type": "execute_result"
    }
   ],
   "source": [
    "df['TrackChannelTypeDef'].describe()"
   ]
  },
  {
   "cell_type": "code",
   "execution_count": 23,
   "metadata": {},
   "outputs": [
    {
     "data": {
      "text/plain": [
       "count     2148656\n",
       "unique          6\n",
       "top        服裝、內睡衣\n",
       "freq      2112803\n",
       "Name: LevelOneCategoryName, dtype: object"
      ]
     },
     "execution_count": 23,
     "metadata": {},
     "output_type": "execute_result"
    }
   ],
   "source": [
    "df['LevelOneCategoryName'].describe()"
   ]
  },
  {
   "cell_type": "code",
   "execution_count": 24,
   "metadata": {},
   "outputs": [
    {
     "data": {
      "text/plain": [
       "服裝、內睡衣          2112803\n",
       "鞋、包、配飾            27404\n",
       "戶外、運動、汽機車用品        7166\n",
       "美妝、保健               735\n",
       "生活、居家、寵物            495\n",
       "手機、相機、拍立得、耳機         53\n",
       "Name: LevelOneCategoryName, dtype: int64"
      ]
     },
     "execution_count": 24,
     "metadata": {},
     "output_type": "execute_result"
    }
   ],
   "source": [
    "levelone_counts = df['LevelOneCategoryName'].value_counts()\n",
    "levelone_counts"
   ]
  },
  {
   "cell_type": "code",
   "execution_count": 26,
   "metadata": {},
   "outputs": [
    {
     "data": {
      "text/plain": [
       "<matplotlib.axes._subplots.AxesSubplot at 0x3d72bd90>"
      ]
     },
     "execution_count": 26,
     "metadata": {},
     "output_type": "execute_result"
    },
    {
     "data": {
      "image/png": "[encoded data removed]",
      "text/plain": [
       "<matplotlib.figure.Figure at 0x34a5d370>"
      ]
     },
     "metadata": {},
     "output_type": "display_data"
    }
   ],
   "source": [
    "levelone_counts.plot(kind='bar')"
   ]
  },
  {
   "cell_type": "code",
   "execution_count": 27,
   "metadata": {},
   "outputs": [
    {
     "data": {
      "text/plain": [
       "女裝           2072670\n",
       "內衣             40133\n",
       "流行女鞋           13678\n",
       "飾品、配件          11636\n",
       "比基尼、泳裝、配件       7166\n",
       "時尚女包            2090\n",
       "指甲油、刷具、美材        735\n",
       "收納               495\n",
       "智慧型手機配件           53\n",
       "Name: LevelTwoCategoryName, dtype: int64"
      ]
     },
     "execution_count": 27,
     "metadata": {},
     "output_type": "execute_result"
    }
   ],
   "source": [
    "leveltwo_counts = df['LevelTwoCategoryName'].value_counts()\n",
    "leveltwo_counts"
   ]
  },
  {
   "cell_type": "code",
   "execution_count": 28,
   "metadata": {},
   "outputs": [
    {
     "data": {
      "text/plain": [
       "上衣              1403194\n",
       "下著               505104\n",
       "外套               102679\n",
       "圍巾/披肩/襪品          57944\n",
       "款式搜尋              26194\n",
       "內褲                13505\n",
       "比基尼、泳裝             7166\n",
       "帽子                 5706\n",
       "其他女鞋               5621\n",
       "涼鞋                 3963\n",
       "其他                 3749\n",
       "拖鞋                 2272\n",
       "靴子                 1822\n",
       "項鍊                 1699\n",
       "耳環                 1614\n",
       "髮飾                 1119\n",
       "美妝小物                735\n",
       "女性其他包款              607\n",
       "女性手提包               553\n",
       "手鍊/手環               454\n",
       "包包、小物收納、抽屜隔板        452\n",
       "女性側背包               447\n",
       "隱形胸罩、胸墊             434\n",
       "女用皮帶                395\n",
       "平光眼鏡                369\n",
       "女性手拿包               187\n",
       "戒指                  169\n",
       "太陽眼鏡                111\n",
       "零錢包                 108\n",
       "女性斜背包               106\n",
       "女性後背包                82\n",
       "其它品牌區                53\n",
       "內衣褲、小衣物收納            43\n",
       "Name: LevelThreeCategoryName, dtype: int64"
      ]
     },
     "execution_count": 28,
     "metadata": {},
     "output_type": "execute_result"
    }
   ],
   "source": [
    "levelThree_counts = df['LevelThreeCategoryName'].value_counts()\n",
    "levelThree_counts"
   ]
  },
  {
   "cell_type": "code",
   "execution_count": 29,
   "metadata": {},
   "outputs": [
    {
     "data": {
      "text/plain": [
       "LevelThreeCategoryName\n",
       "上衣              1425914\n",
       "下著               516991\n",
       "內衣褲、小衣物收納            43\n",
       "內褲                15108\n",
       "其他                 3926\n",
       "其他女鞋               5654\n",
       "其它品牌區                53\n",
       "包包、小物收納、抽屜隔板        462\n",
       "圍巾/披肩/襪品          65189\n",
       "外套               103969\n",
       "Name: Quantity, dtype: int64"
      ]
     },
     "execution_count": 29,
     "metadata": {},
     "output_type": "execute_result"
    }
   ],
   "source": [
    "data1 = df.groupby(by='LevelThreeCategoryName')['Quantity'].sum()\n",
    "data1.head(10)"
   ]
  },
  {
   "cell_type": "code",
   "execution_count": 30,
   "metadata": {},
   "outputs": [
    {
     "data": {
      "text/plain": [
       "<matplotlib.axes._subplots.AxesSubplot at 0x31202bf0>"
      ]
     },
     "execution_count": 30,
     "metadata": {},
     "output_type": "execute_result"
    },
    {
     "data": {
      "image/png": "[encoded data removed]",
      "text/plain": [
       "<matplotlib.figure.Figure at 0x31b3d330>"
      ]
     },
     "metadata": {},
     "output_type": "display_data"
    }
   ],
   "source": [
    "data1.plot()"
   ]
  },
  {
   "cell_type": "code",
   "execution_count": 31,
   "metadata": {},
   "outputs": [],
   "source": [
    "coat=df[df['LevelThreeCategoryName']=='外套']"
   ]
  },
  {
   "cell_type": "code",
   "execution_count": 32,
   "metadata": {},
   "outputs": [
    {
     "data": {
      "text/html": [
       "<div>\n",
       "<table border=\"1\" class=\"dataframe\">\n",
       "  <thead>\n",
       "    <tr style=\"text-align: right;\">\n",
       "      <th></th>\n",
       "      <th>SalesOrderSlaveId</th>\n",
       "      <th>DateId</th>\n",
       "      <th>MemberId</th>\n",
       "      <th>TradesOrderSlaveId</th>\n",
       "      <th>ShopId</th>\n",
       "      <th>SalePageId</th>\n",
       "      <th>TradesOrderGroupCode</th>\n",
       "      <th>TrackSourceTypeDef</th>\n",
       "      <th>TrackChannelTypeDef</th>\n",
       "      <th>TrackDeviceTypeDef</th>\n",
       "      <th>...</th>\n",
       "      <th>PromotionDiscount</th>\n",
       "      <th>EcouponDiscount</th>\n",
       "      <th>SalesOrderSlaveTotalPayment</th>\n",
       "      <th>SalesOrderSlaveDateTime</th>\n",
       "      <th>SalesOrderSlaveStatusDef</th>\n",
       "      <th>PayProfileTypeDef</th>\n",
       "      <th>ShippingProfileTypeDef</th>\n",
       "      <th>EcouponId</th>\n",
       "      <th>IsSalePageGift</th>\n",
       "      <th>new_DateId</th>\n",
       "    </tr>\n",
       "  </thead>\n",
       "  <tbody>\n",
       "    <tr>\n",
       "      <th>23</th>\n",
       "      <td>50913757</td>\n",
       "      <td>20180102</td>\n",
       "      <td>241AA95E-6A4D-4B07-BDE7-DF5D2730DCC1</td>\n",
       "      <td>50977491</td>\n",
       "      <td>1317</td>\n",
       "      <td>15736</td>\n",
       "      <td>b'\\xee\\xdd\\xf5\\xe8\\x1b\\x1b\\xdf\\x1dU\\xd4\\x0f\\x1...</td>\n",
       "      <td>AndroidApp</td>\n",
       "      <td>Brand</td>\n",
       "      <td>Mobile</td>\n",
       "      <td>...</td>\n",
       "      <td>-461.0</td>\n",
       "      <td>0.0</td>\n",
       "      <td>329.0</td>\n",
       "      <td>2018-01-02 22:24:48.677</td>\n",
       "      <td>WaitingToShipping</td>\n",
       "      <td>Family</td>\n",
       "      <td>Family</td>\n",
       "      <td>NaN</td>\n",
       "      <td>False</td>\n",
       "      <td>2018-01-02</td>\n",
       "    </tr>\n",
       "    <tr>\n",
       "      <th>44</th>\n",
       "      <td>49092150</td>\n",
       "      <td>20171207</td>\n",
       "      <td>97CBBBFF-5BDE-40F9-8C18-22A2D6CD7A45</td>\n",
       "      <td>49155566</td>\n",
       "      <td>1317</td>\n",
       "      <td>15197</td>\n",
       "      <td>b'\\x98j\\x0f\\xa5\\x9efQ\\xb2B\\x8e\\xeb\\xbe/\\xf9\\xb...</td>\n",
       "      <td>Web</td>\n",
       "      <td>Brand</td>\n",
       "      <td>Mobile</td>\n",
       "      <td>...</td>\n",
       "      <td>-21.0</td>\n",
       "      <td>0.0</td>\n",
       "      <td>178.0</td>\n",
       "      <td>2017-12-07 07:05:38.817</td>\n",
       "      <td>Finish</td>\n",
       "      <td>Family</td>\n",
       "      <td>Family</td>\n",
       "      <td>NaN</td>\n",
       "      <td>False</td>\n",
       "      <td>2017-12-07</td>\n",
       "    </tr>\n",
       "    <tr>\n",
       "      <th>98</th>\n",
       "      <td>48429334</td>\n",
       "      <td>20171126</td>\n",
       "      <td>1BC4700D-32FC-44D1-AFE6-9407321FE069</td>\n",
       "      <td>48492635</td>\n",
       "      <td>1317</td>\n",
       "      <td>15712</td>\n",
       "      <td>b\"\\xbaP\\x8d\\xfe\\xd7ng'C\\xa8\\xce\\x08@?\\x9a`sL\\x...</td>\n",
       "      <td>AndroidApp</td>\n",
       "      <td>Brand</td>\n",
       "      <td>Mobile</td>\n",
       "      <td>...</td>\n",
       "      <td>-42.0</td>\n",
       "      <td>-28.0</td>\n",
       "      <td>1170.0</td>\n",
       "      <td>2017-11-26 23:17:40.043</td>\n",
       "      <td>Finish</td>\n",
       "      <td>SevenEleven</td>\n",
       "      <td>SevenEleven</td>\n",
       "      <td>214.0</td>\n",
       "      <td>False</td>\n",
       "      <td>2017-11-26</td>\n",
       "    </tr>\n",
       "    <tr>\n",
       "      <th>141</th>\n",
       "      <td>50959331</td>\n",
       "      <td>20180103</td>\n",
       "      <td>0687FA31-77B5-45AE-86BE-78204B91FFA3</td>\n",
       "      <td>51023018</td>\n",
       "      <td>1317</td>\n",
       "      <td>8256</td>\n",
       "      <td>b't.AS\\x87\\x93\\xcaz\\xc3r\\x19\\xc2u\\xde\\x07\\xc8\\...</td>\n",
       "      <td>Web</td>\n",
       "      <td>Brand</td>\n",
       "      <td>Mobile</td>\n",
       "      <td>...</td>\n",
       "      <td>0.0</td>\n",
       "      <td>0.0</td>\n",
       "      <td>399.0</td>\n",
       "      <td>2018-01-03 16:11:51.557</td>\n",
       "      <td>WaitingToShipping</td>\n",
       "      <td>SevenEleven</td>\n",
       "      <td>SevenEleven</td>\n",
       "      <td>NaN</td>\n",
       "      <td>False</td>\n",
       "      <td>2018-01-03</td>\n",
       "    </tr>\n",
       "    <tr>\n",
       "      <th>154</th>\n",
       "      <td>51014651</td>\n",
       "      <td>20180104</td>\n",
       "      <td>1B72B04A-D092-4879-8508-BE61897D25D0</td>\n",
       "      <td>51078383</td>\n",
       "      <td>1317</td>\n",
       "      <td>15999</td>\n",
       "      <td>b'%.\\x1eus\\x8b%|\\xc9\\x8e\\x80\\xc9:+\\x86\\xb50}\\x...</td>\n",
       "      <td>Web</td>\n",
       "      <td>Brand</td>\n",
       "      <td>Mobile</td>\n",
       "      <td>...</td>\n",
       "      <td>-73.0</td>\n",
       "      <td>0.0</td>\n",
       "      <td>426.0</td>\n",
       "      <td>2018-01-04 13:28:47.080</td>\n",
       "      <td>WaitingToShipping</td>\n",
       "      <td>CreditCardOnce</td>\n",
       "      <td>Home</td>\n",
       "      <td>NaN</td>\n",
       "      <td>False</td>\n",
       "      <td>2018-01-04</td>\n",
       "    </tr>\n",
       "  </tbody>\n",
       "</table>\n",
       "<p>5 rows × 28 columns</p>\n",
       "</div>"
      ],
      "text/plain": [
       "     SalesOrderSlaveId    DateId                              MemberId  \\\n",
       "23            50913757  20180102  241AA95E-6A4D-4B07-BDE7-DF5D2730DCC1   \n",
       "44            49092150  20171207  97CBBBFF-5BDE-40F9-8C18-22A2D6CD7A45   \n",
       "98            48429334  20171126  1BC4700D-32FC-44D1-AFE6-9407321FE069   \n",
       "141           50959331  20180103  0687FA31-77B5-45AE-86BE-78204B91FFA3   \n",
       "154           51014651  20180104  1B72B04A-D092-4879-8508-BE61897D25D0   \n",
       "\n",
       "     TradesOrderSlaveId  ShopId  SalePageId  \\\n",
       "23             50977491    1317       15736   \n",
       "44             49155566    1317       15197   \n",
       "98             48492635    1317       15712   \n",
       "141            51023018    1317        8256   \n",
       "154            51078383    1317       15999   \n",
       "\n",
       "                                  TradesOrderGroupCode TrackSourceTypeDef  \\\n",
       "23   b'\\xee\\xdd\\xf5\\xe8\\x1b\\x1b\\xdf\\x1dU\\xd4\\x0f\\x1...         AndroidApp   \n",
       "44   b'\\x98j\\x0f\\xa5\\x9efQ\\xb2B\\x8e\\xeb\\xbe/\\xf9\\xb...                Web   \n",
       "98   b\"\\xbaP\\x8d\\xfe\\xd7ng'C\\xa8\\xce\\x08@?\\x9a`sL\\x...         AndroidApp   \n",
       "141  b't.AS\\x87\\x93\\xcaz\\xc3r\\x19\\xc2u\\xde\\x07\\xc8\\...                Web   \n",
       "154  b'%.\\x1eus\\x8b%|\\xc9\\x8e\\x80\\xc9:+\\x86\\xb50}\\x...                Web   \n",
       "\n",
       "    TrackChannelTypeDef TrackDeviceTypeDef     ...     PromotionDiscount  \\\n",
       "23                Brand             Mobile     ...                -461.0   \n",
       "44                Brand             Mobile     ...                 -21.0   \n",
       "98                Brand             Mobile     ...                 -42.0   \n",
       "141               Brand             Mobile     ...                   0.0   \n",
       "154               Brand             Mobile     ...                 -73.0   \n",
       "\n",
       "    EcouponDiscount SalesOrderSlaveTotalPayment  SalesOrderSlaveDateTime  \\\n",
       "23              0.0                       329.0  2018-01-02 22:24:48.677   \n",
       "44              0.0                       178.0  2017-12-07 07:05:38.817   \n",
       "98            -28.0                      1170.0  2017-11-26 23:17:40.043   \n",
       "141             0.0                       399.0  2018-01-03 16:11:51.557   \n",
       "154             0.0                       426.0  2018-01-04 13:28:47.080   \n",
       "\n",
       "    SalesOrderSlaveStatusDef PayProfileTypeDef  ShippingProfileTypeDef  \\\n",
       "23         WaitingToShipping            Family                  Family   \n",
       "44                    Finish            Family                  Family   \n",
       "98                    Finish       SevenEleven             SevenEleven   \n",
       "141        WaitingToShipping       SevenEleven             SevenEleven   \n",
       "154        WaitingToShipping    CreditCardOnce                    Home   \n",
       "\n",
       "     EcouponId  IsSalePageGift  new_DateId  \n",
       "23         NaN           False  2018-01-02  \n",
       "44         NaN           False  2017-12-07  \n",
       "98       214.0           False  2017-11-26  \n",
       "141        NaN           False  2018-01-03  \n",
       "154        NaN           False  2018-01-04  \n",
       "\n",
       "[5 rows x 28 columns]"
      ]
     },
     "execution_count": 32,
     "metadata": {},
     "output_type": "execute_result"
    }
   ],
   "source": [
    "coat.head()"
   ]
  },
  {
   "cell_type": "code",
   "execution_count": 33,
   "metadata": {},
   "outputs": [
    {
     "data": {
      "text/plain": [
       "new_DateId\n",
       "2017-01-01    135\n",
       "2017-01-02    172\n",
       "2017-01-03    124\n",
       "2017-01-04    136\n",
       "2017-01-05    115\n",
       "2017-01-06     68\n",
       "2017-01-07     82\n",
       "2017-01-08     66\n",
       "2017-01-09     70\n",
       "2017-01-10     73\n",
       "Name: Quantity, dtype: int64"
      ]
     },
     "execution_count": 33,
     "metadata": {},
     "output_type": "execute_result"
    }
   ],
   "source": [
    "coatData = coat.groupby(by='new_DateId')['Quantity'].sum()\n",
    "coatData.head(10)"
   ]
  },
  {
   "cell_type": "code",
   "execution_count": 34,
   "metadata": {},
   "outputs": [
    {
     "data": {
      "text/plain": [
       "<matplotlib.axes._subplots.AxesSubplot at 0x3120e3f0>"
      ]
     },
     "execution_count": 34,
     "metadata": {},
     "output_type": "execute_result"
    },
    {
     "data": {
      "image/png": "[encoded data removed]",
      "text/plain": [
       "<matplotlib.figure.Figure at 0x309107b0>"
      ]
     },
     "metadata": {},
     "output_type": "display_data"
    }
   ],
   "source": [
    "%matplotlib inline\n",
    "coatData.plot() "
   ]
  },
  {
   "cell_type": "code",
   "execution_count": null,
   "metadata": {},
   "outputs": [],
   "source": []
  }
 ],
 "metadata": {
  "kernelspec": {
   "display_name": "Python 2",
   "language": "python",
   "name": "python2"
  },
  "language_info": {
   "codemirror_mode": {
    "name": "ipython",
    "version": 2
   },
   "file_extension": ".py",
   "mimetype": "text/x-python",
   "name": "python",
   "nbconvert_exporter": "python",
   "pygments_lexer": "ipython2",
   "version": "2.7.13"
  }
 },
 "nbformat": 4,
 "nbformat_minor": 2
}
