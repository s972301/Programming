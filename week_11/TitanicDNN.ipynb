{
 "cells": [
  {
   "cell_type": "code",
   "execution_count": 1,
   "metadata": {},
   "outputs": [],
   "source": [
    "import os\n",
    "import random\n",
    "import pandas as pd\n",
    "import numpy as np\n",
    "import matplotlib.pyplot as plt\n",
    "from sklearn import preprocessing\n",
    "%matplotlib inline"
   ]
  },
  {
   "cell_type": "code",
   "execution_count": 2,
   "metadata": {},
   "outputs": [],
   "source": [
    "train_df = pd.read_csv('./titanicTrain.csv')\n",
    "test_df = pd.read_csv('./titanicQuestion.csv')"
   ]
  },
  {
   "cell_type": "code",
   "execution_count": 3,
   "metadata": {},
   "outputs": [
    {
     "name": "stdout",
     "output_type": "stream",
     "text": [
      "Train: 1000 Test: 309\n"
     ]
    }
   ],
   "source": [
    "train_df = train_df[:1000]\n",
    "print('Train:', len(train_df),\n",
    "      'Test:', len(test_df))"
   ]
  },
  {
   "cell_type": "markdown",
   "metadata": {},
   "source": [
    "## preprocessing function"
   ]
  },
  {
   "cell_type": "code",
   "execution_count": 131,
   "metadata": {},
   "outputs": [],
   "source": [
    "from sklearn import preprocessing\n",
    "# Titanic data preprocessing function\n",
    "def preprocessTitanicData(raw_df):\n",
    "\n",
    "    df = raw_df[['survived', 'pclass', 'sibsp', 'parch', 'age', 'sex', 'fare', 'embarked']]\n",
    "    \n",
    "    df['age'] = df['age'].fillna(df['age'].mean())\n",
    "    df['fare'] = df['fare'].fillna(df['fare'].mean())\n",
    "    df['sex'] = df['sex'].map({'female':0, 'male':1}).astype(int)\n",
    "    df['family_size'] = df['sibsp'] + df['parch']\n",
    "\n",
    "    x_onehot_df = pd.get_dummies(data=df, columns= ['embarked'])\n",
    "    ndarray = x_onehot_df.values\n",
    "    feature = ndarray[:,1:]\n",
    "    label = ndarray[:, 0]\n",
    "    \n",
    "    minmax_scale = preprocessing.MinMaxScaler(feature_range=(0, 1))\n",
    "    scaledFeatures = minmax_scale.fit_transform(feature)\n",
    "    \n",
    "    return scaledFeatures, label"
   ]
  },
  {
   "cell_type": "code",
   "execution_count": 132,
   "metadata": {},
   "outputs": [
    {
     "data": {
      "text/html": [
       "<div>\n",
       "<style scoped>\n",
       "    .dataframe tbody tr th:only-of-type {\n",
       "        vertical-align: middle;\n",
       "    }\n",
       "\n",
       "    .dataframe tbody tr th {\n",
       "        vertical-align: top;\n",
       "    }\n",
       "\n",
       "    .dataframe thead th {\n",
       "        text-align: right;\n",
       "    }\n",
       "</style>\n",
       "<table border=\"1\" class=\"dataframe\">\n",
       "  <thead>\n",
       "    <tr style=\"text-align: right;\">\n",
       "      <th></th>\n",
       "      <th>pclass</th>\n",
       "      <th>survived</th>\n",
       "      <th>name</th>\n",
       "      <th>sex</th>\n",
       "      <th>age</th>\n",
       "      <th>sibsp</th>\n",
       "      <th>parch</th>\n",
       "      <th>ticket</th>\n",
       "      <th>fare</th>\n",
       "      <th>cabin</th>\n",
       "      <th>embarked</th>\n",
       "      <th>boat</th>\n",
       "      <th>body</th>\n",
       "      <th>home.dest</th>\n",
       "      <th>prediction</th>\n",
       "    </tr>\n",
       "  </thead>\n",
       "  <tbody>\n",
       "    <tr>\n",
       "      <th>0</th>\n",
       "      <td>1.0</td>\n",
       "      <td>1.0</td>\n",
       "      <td>Allen, Miss. Elisabeth Walton</td>\n",
       "      <td>female</td>\n",
       "      <td>29.0000</td>\n",
       "      <td>0.0</td>\n",
       "      <td>0.0</td>\n",
       "      <td>24160</td>\n",
       "      <td>211.3375</td>\n",
       "      <td>B5</td>\n",
       "      <td>S</td>\n",
       "      <td>2</td>\n",
       "      <td>NaN</td>\n",
       "      <td>St Louis, MO</td>\n",
       "      <td>0</td>\n",
       "    </tr>\n",
       "    <tr>\n",
       "      <th>1</th>\n",
       "      <td>1.0</td>\n",
       "      <td>1.0</td>\n",
       "      <td>Allison, Master. Hudson Trevor</td>\n",
       "      <td>male</td>\n",
       "      <td>0.9167</td>\n",
       "      <td>1.0</td>\n",
       "      <td>2.0</td>\n",
       "      <td>113781</td>\n",
       "      <td>151.5500</td>\n",
       "      <td>C22 C26</td>\n",
       "      <td>S</td>\n",
       "      <td>11</td>\n",
       "      <td>NaN</td>\n",
       "      <td>Montreal, PQ / Chesterville, ON</td>\n",
       "      <td>0</td>\n",
       "    </tr>\n",
       "    <tr>\n",
       "      <th>2</th>\n",
       "      <td>1.0</td>\n",
       "      <td>0.0</td>\n",
       "      <td>Allison, Miss. Helen Loraine</td>\n",
       "      <td>female</td>\n",
       "      <td>2.0000</td>\n",
       "      <td>1.0</td>\n",
       "      <td>2.0</td>\n",
       "      <td>113781</td>\n",
       "      <td>151.5500</td>\n",
       "      <td>C22 C26</td>\n",
       "      <td>S</td>\n",
       "      <td>NaN</td>\n",
       "      <td>NaN</td>\n",
       "      <td>Montreal, PQ / Chesterville, ON</td>\n",
       "      <td>0</td>\n",
       "    </tr>\n",
       "    <tr>\n",
       "      <th>3</th>\n",
       "      <td>1.0</td>\n",
       "      <td>0.0</td>\n",
       "      <td>Allison, Mr. Hudson Joshua Creighton</td>\n",
       "      <td>male</td>\n",
       "      <td>30.0000</td>\n",
       "      <td>1.0</td>\n",
       "      <td>2.0</td>\n",
       "      <td>113781</td>\n",
       "      <td>151.5500</td>\n",
       "      <td>C22 C26</td>\n",
       "      <td>S</td>\n",
       "      <td>NaN</td>\n",
       "      <td>135.0</td>\n",
       "      <td>Montreal, PQ / Chesterville, ON</td>\n",
       "      <td>0</td>\n",
       "    </tr>\n",
       "    <tr>\n",
       "      <th>4</th>\n",
       "      <td>1.0</td>\n",
       "      <td>0.0</td>\n",
       "      <td>Allison, Mrs. Hudson J C (Bessie Waldo Daniels)</td>\n",
       "      <td>female</td>\n",
       "      <td>25.0000</td>\n",
       "      <td>1.0</td>\n",
       "      <td>2.0</td>\n",
       "      <td>113781</td>\n",
       "      <td>151.5500</td>\n",
       "      <td>C22 C26</td>\n",
       "      <td>S</td>\n",
       "      <td>NaN</td>\n",
       "      <td>NaN</td>\n",
       "      <td>Montreal, PQ / Chesterville, ON</td>\n",
       "      <td>0</td>\n",
       "    </tr>\n",
       "  </tbody>\n",
       "</table>\n",
       "</div>"
      ],
      "text/plain": [
       "   pclass  survived                                             name     sex  \\\n",
       "0     1.0       1.0                    Allen, Miss. Elisabeth Walton  female   \n",
       "1     1.0       1.0                   Allison, Master. Hudson Trevor    male   \n",
       "2     1.0       0.0                     Allison, Miss. Helen Loraine  female   \n",
       "3     1.0       0.0             Allison, Mr. Hudson Joshua Creighton    male   \n",
       "4     1.0       0.0  Allison, Mrs. Hudson J C (Bessie Waldo Daniels)  female   \n",
       "\n",
       "       age  sibsp  parch  ticket      fare    cabin embarked boat   body  \\\n",
       "0  29.0000    0.0    0.0   24160  211.3375       B5        S    2    NaN   \n",
       "1   0.9167    1.0    2.0  113781  151.5500  C22 C26        S   11    NaN   \n",
       "2   2.0000    1.0    2.0  113781  151.5500  C22 C26        S  NaN    NaN   \n",
       "3  30.0000    1.0    2.0  113781  151.5500  C22 C26        S  NaN  135.0   \n",
       "4  25.0000    1.0    2.0  113781  151.5500  C22 C26        S  NaN    NaN   \n",
       "\n",
       "                         home.dest  prediction  \n",
       "0                     St Louis, MO           0  \n",
       "1  Montreal, PQ / Chesterville, ON           0  \n",
       "2  Montreal, PQ / Chesterville, ON           0  \n",
       "3  Montreal, PQ / Chesterville, ON           0  \n",
       "4  Montreal, PQ / Chesterville, ON           0  "
      ]
     },
     "execution_count": 132,
     "metadata": {},
     "output_type": "execute_result"
    }
   ],
   "source": [
    "train_df.head()"
   ]
  },
  {
   "cell_type": "code",
   "execution_count": 133,
   "metadata": {},
   "outputs": [
    {
     "name": "stderr",
     "output_type": "stream",
     "text": [
      "D:\\andyl\\Anaconda3\\lib\\site-packages\\ipykernel_launcher.py:7: SettingWithCopyWarning: \n",
      "A value is trying to be set on a copy of a slice from a DataFrame.\n",
      "Try using .loc[row_indexer,col_indexer] = value instead\n",
      "\n",
      "See the caveats in the documentation: http://pandas.pydata.org/pandas-docs/stable/indexing.html#indexing-view-versus-copy\n",
      "  import sys\n",
      "D:\\andyl\\Anaconda3\\lib\\site-packages\\ipykernel_launcher.py:8: SettingWithCopyWarning: \n",
      "A value is trying to be set on a copy of a slice from a DataFrame.\n",
      "Try using .loc[row_indexer,col_indexer] = value instead\n",
      "\n",
      "See the caveats in the documentation: http://pandas.pydata.org/pandas-docs/stable/indexing.html#indexing-view-versus-copy\n",
      "  \n",
      "D:\\andyl\\Anaconda3\\lib\\site-packages\\ipykernel_launcher.py:9: SettingWithCopyWarning: \n",
      "A value is trying to be set on a copy of a slice from a DataFrame.\n",
      "Try using .loc[row_indexer,col_indexer] = value instead\n",
      "\n",
      "See the caveats in the documentation: http://pandas.pydata.org/pandas-docs/stable/indexing.html#indexing-view-versus-copy\n",
      "  if __name__ == '__main__':\n",
      "D:\\andyl\\Anaconda3\\lib\\site-packages\\ipykernel_launcher.py:10: SettingWithCopyWarning: \n",
      "A value is trying to be set on a copy of a slice from a DataFrame.\n",
      "Try using .loc[row_indexer,col_indexer] = value instead\n",
      "\n",
      "See the caveats in the documentation: http://pandas.pydata.org/pandas-docs/stable/indexing.html#indexing-view-versus-copy\n",
      "  # Remove the CWD from sys.path while we load stuff.\n"
     ]
    }
   ],
   "source": [
    "x_train, y_train = preprocessTitanicData(train_df)\n",
    "x_test, y_test = preprocessTitanicData(test_df)"
   ]
  },
  {
   "cell_type": "code",
   "execution_count": 134,
   "metadata": {},
   "outputs": [
    {
     "name": "stdout",
     "output_type": "stream",
     "text": [
      "(1000, 10) (1000,)\n",
      "(309, 10) (309,)\n",
      "(1000, 10) (1000, 1)\n",
      "(309, 10) (309, 1)\n"
     ]
    }
   ],
   "source": [
    "print(x_train.shape, y_train.shape) #np.array np.array\n",
    "print(x_test.shape, y_test.shape) # np.array np.array\n",
    "\n",
    "# reshape y_train and y_test\n",
    "y_train = y_train.reshape(-1, 1)\n",
    "y_test = y_test.reshape(-1, 1)\n",
    "\n",
    "print(x_train.shape, y_train.shape) #np.array np.array\n",
    "print(x_test.shape, y_test.shape) # np.array np.array"
   ]
  },
  {
   "cell_type": "markdown",
   "metadata": {},
   "source": [
    "## construct model"
   ]
  },
  {
   "cell_type": "code",
   "execution_count": 135,
   "metadata": {},
   "outputs": [],
   "source": [
    "import torch\n",
    "import torch.nn as nn\n",
    "from torch.autograd import Variable\n",
    "import torch.nn.functional as F\n",
    "import torchvision.transforms as transforms"
   ]
  },
  {
   "cell_type": "code",
   "execution_count": 136,
   "metadata": {},
   "outputs": [],
   "source": [
    "DROPOUT_RATIO = 0.5"
   ]
  },
  {
   "cell_type": "code",
   "execution_count": 154,
   "metadata": {},
   "outputs": [],
   "source": [
    "class LR(nn.Module): # 繼承torch.nn.module特性\n",
    "    \n",
    "    # 架構\n",
    "    def __init__(self):\n",
    "        super(LR, self).__init__() # super(LR, self) 繼承自己的__init__()\n",
    "        \n",
    "        \n",
    "        self.dropout = nn.Dropout(DROPOUT_RATIO)\n",
    "        self.hidden1 = nn.Linear(10, 200) # input 10, hidden 200 Linear全連接\n",
    "        self.hidden2 = nn.Linear(200, 150) # input 200, hidden 150  Linear全連接\n",
    "       # self.hidden22 = nn.Linear(100, 40)\n",
    "        self.hidden3 = nn.Linear(150, 75) # input 150, hidden 75  Linear全連接\n",
    "       # self.hidden22 = nn.Linear(100, 40)\n",
    "        self.hidden4 = nn.Linear(75, 50) # input 75, hidden 50  Linear全連接\n",
    "       # self.hidden3 = nn.Bilinear(40, 40, 30)\n",
    "        self.hidden5 = nn.Linear(50, 25) # input 50, hidden 25  Linear全連接\n",
    "        self.hidden6 = nn.Linear(25, 1) # hidden 50, output 1\n",
    "\n",
    "    # 運作流程（資料流）\n",
    "    def forward(self, x):  \n",
    "        x = F.sigmoid(self.hidden1(x)) # 讓x由hidden1後，進入activation function\n",
    "        x = F.dropout(self.dropout(x))\n",
    "        \n",
    "        #y = F.relu(self.hidden22(x))\n",
    "        #y = F.dropout(self.dropout(y))\n",
    "        \n",
    "        x = F.relu(self.hidden2(x))\n",
    "        x = F.dropout(self.dropout(x))\n",
    "        \n",
    "        x = F.relu(self.hidden3(x))\n",
    "       # x = F.relu(self.hidden3(x, y))\n",
    "        x = F.dropout(self.dropout(x))\n",
    "        x = F.sigmoid(self.hidden4(x))\n",
    "        x = F.dropout(self.dropout(x))\n",
    "        x = F.sigmoid(self.hidden5(x))\n",
    "        out = self.hidden6(x)\n",
    "        return out\n",
    "    "
   ]
  },
  {
   "cell_type": "code",
   "execution_count": 155,
   "metadata": {},
   "outputs": [],
   "source": [
    "LEARNING_RATE = 0.001\n",
    "model = LR()\n",
    "loss_func = nn.MSELoss()\n",
    "optimizer = torch.optim.SGD(model.parameters(), lr=LEARNING_RATE) #model.parameters() 所有訓練的參數都在這\n",
    "# model.cuda()   "
   ]
  },
  {
   "cell_type": "markdown",
   "metadata": {},
   "source": [
    "## Training"
   ]
  },
  {
   "cell_type": "code",
   "execution_count": 156,
   "metadata": {},
   "outputs": [],
   "source": [
    "epochs = 3000"
   ]
  },
  {
   "cell_type": "code",
   "execution_count": null,
   "metadata": {
    "scrolled": true
   },
   "outputs": [
    {
     "name": "stderr",
     "output_type": "stream",
     "text": [
      "D:\\andyl\\Anaconda3\\lib\\site-packages\\ipykernel_launcher.py:25: UserWarning: invalid index of a 0-dim tensor. This will be an error in PyTorch 0.5. Use tensor.item() to convert a 0-dim tensor to a Python number\n"
     ]
    },
    {
     "name": "stdout",
     "output_type": "stream",
     "text": [
      "epoch 10, loss 0.25067335\n",
      "epoch 20, loss 0.25107718\n",
      "epoch 30, loss 0.24896705\n",
      "epoch 40, loss 0.24710101\n",
      "epoch 50, loss 0.24620938\n",
      "epoch 60, loss 0.24547240\n",
      "epoch 70, loss 0.24835649\n",
      "epoch 80, loss 0.24585992\n",
      "epoch 90, loss 0.24436615\n",
      "epoch 100, loss 0.24589597\n",
      "epoch 110, loss 0.24770850\n",
      "epoch 120, loss 0.24312043\n",
      "epoch 130, loss 0.24600756\n",
      "epoch 140, loss 0.24639918\n",
      "epoch 150, loss 0.24481127\n",
      "epoch 160, loss 0.24652623\n",
      "epoch 170, loss 0.24543175\n",
      "epoch 180, loss 0.24341340\n",
      "epoch 190, loss 0.24558924\n",
      "epoch 200, loss 0.24440400\n",
      "epoch 210, loss 0.24414571\n",
      "epoch 220, loss 0.24408019\n",
      "epoch 230, loss 0.24645658\n",
      "epoch 240, loss 0.24446276\n",
      "epoch 250, loss 0.24549700\n",
      "epoch 260, loss 0.24395025\n",
      "epoch 270, loss 0.24439621\n",
      "epoch 280, loss 0.24530423\n",
      "epoch 290, loss 0.24457288\n",
      "epoch 300, loss 0.24410102\n",
      "epoch 310, loss 0.24593040\n",
      "epoch 320, loss 0.24669911\n",
      "epoch 330, loss 0.24546573\n",
      "epoch 340, loss 0.24668485\n",
      "epoch 350, loss 0.24391961\n",
      "epoch 360, loss 0.24548465\n",
      "epoch 370, loss 0.24576490\n",
      "epoch 380, loss 0.24571413\n",
      "epoch 390, loss 0.24450940\n",
      "epoch 400, loss 0.24514998\n",
      "epoch 410, loss 0.24659838\n",
      "epoch 420, loss 0.24683601\n",
      "epoch 430, loss 0.24564892\n",
      "epoch 440, loss 0.24657638\n",
      "epoch 450, loss 0.24531981\n",
      "epoch 460, loss 0.24598703\n",
      "epoch 470, loss 0.24497266\n",
      "epoch 480, loss 0.24500592\n",
      "epoch 490, loss 0.24295622\n",
      "epoch 500, loss 0.24425340\n",
      "epoch 510, loss 0.24402472\n",
      "epoch 520, loss 0.24463204\n",
      "epoch 530, loss 0.24438611\n",
      "epoch 540, loss 0.24420170\n",
      "epoch 550, loss 0.24631540\n",
      "epoch 560, loss 0.24351020\n",
      "epoch 570, loss 0.24545518\n",
      "epoch 580, loss 0.24471246\n",
      "epoch 590, loss 0.24419677\n",
      "epoch 600, loss 0.24691704\n",
      "epoch 610, loss 0.24501453\n",
      "epoch 620, loss 0.24614480\n",
      "epoch 630, loss 0.24471942\n",
      "epoch 640, loss 0.24501081\n",
      "epoch 650, loss 0.24529310\n",
      "epoch 660, loss 0.24415128\n",
      "epoch 670, loss 0.24449597\n",
      "epoch 680, loss 0.24506328\n",
      "epoch 690, loss 0.24582572\n",
      "epoch 700, loss 0.24633051\n",
      "epoch 710, loss 0.24461047\n",
      "epoch 720, loss 0.24388769\n",
      "epoch 730, loss 0.24496001\n",
      "epoch 740, loss 0.24557471\n",
      "epoch 750, loss 0.24590698\n",
      "epoch 760, loss 0.24645071\n",
      "epoch 770, loss 0.24663860\n",
      "epoch 780, loss 0.24622700\n",
      "epoch 790, loss 0.24460678\n",
      "epoch 800, loss 0.24724330\n",
      "epoch 810, loss 0.24659519\n",
      "epoch 820, loss 0.24577381\n",
      "epoch 830, loss 0.24533781\n",
      "epoch 840, loss 0.24415728\n",
      "epoch 850, loss 0.24421367\n",
      "epoch 860, loss 0.24587314\n",
      "epoch 870, loss 0.24472499\n",
      "epoch 880, loss 0.24502473\n",
      "epoch 890, loss 0.24515601\n",
      "epoch 900, loss 0.24490632\n",
      "epoch 910, loss 0.24482347\n",
      "epoch 920, loss 0.24410893\n",
      "epoch 930, loss 0.24477910\n",
      "epoch 940, loss 0.24505509\n",
      "epoch 950, loss 0.24655789\n",
      "epoch 960, loss 0.24469823\n",
      "epoch 970, loss 0.24430665\n",
      "epoch 980, loss 0.24549028\n",
      "epoch 990, loss 0.24592131\n",
      "epoch 1000, loss 0.24587508\n",
      "epoch 1010, loss 0.24388652\n",
      "epoch 1020, loss 0.24555516\n",
      "epoch 1030, loss 0.24490045\n",
      "epoch 1040, loss 0.24651833\n",
      "epoch 1050, loss 0.24562983\n",
      "epoch 1060, loss 0.24571382\n",
      "epoch 1070, loss 0.24357964\n",
      "epoch 1080, loss 0.24504088\n",
      "epoch 1090, loss 0.24685897\n",
      "epoch 1100, loss 0.24615224\n",
      "epoch 1110, loss 0.24505028\n"
     ]
    }
   ],
   "source": [
    "for epoch in range(epochs):\n",
    "    epoch += 1\n",
    "\n",
    "    # convert to variables\n",
    "    x = Variable(torch.from_numpy(x_train).float())\n",
    "    y = Variable(torch.from_numpy(y_train).float())\n",
    "\n",
    "    # clear gradient w.r.t. parameters \n",
    "    optimizer.zero_grad()\n",
    "    \n",
    "    # forward to get output\n",
    "    prediction = model(x)\n",
    "\n",
    "    # calculate loss\n",
    "    loss = loss_func(prediction, y)\n",
    "\n",
    "    # backward to get gradient\n",
    "    loss.backward()\n",
    "\n",
    "    # update parameters\n",
    "    optimizer.step() \n",
    "\n",
    "    if epoch % 10 == 0:\n",
    "    # plot and show learning process\n",
    "        print(\"epoch %d, loss %.8f\" % (epoch, loss.data[0]))"
   ]
  },
  {
   "cell_type": "code",
   "execution_count": null,
   "metadata": {},
   "outputs": [],
   "source": [
    "# get filters from parameters:\n",
    "print(list(model.parameters())[0].size())  "
   ]
  },
  {
   "cell_type": "code",
   "execution_count": null,
   "metadata": {},
   "outputs": [],
   "source": [
    "train_prediction = prediction.data.numpy()\n",
    "train_prediction = np.where(train_prediction>=0.7,1,0)\n",
    "train_df['prediction'] = train_prediction"
   ]
  },
  {
   "cell_type": "markdown",
   "metadata": {},
   "source": [
    "## Prediction"
   ]
  },
  {
   "cell_type": "code",
   "execution_count": null,
   "metadata": {},
   "outputs": [],
   "source": [
    "x_test_v = Variable(torch.from_numpy(x_test).float())\n",
    "test_prediction = model(x_test_v).data.numpy()\n",
    "# test_prediction = np.where(test_prediction>=0.6,1,0)"
   ]
  },
  {
   "cell_type": "code",
   "execution_count": null,
   "metadata": {},
   "outputs": [],
   "source": [
    "test_df['prediction'] = test_prediction"
   ]
  },
  {
   "cell_type": "code",
   "execution_count": null,
   "metadata": {
    "scrolled": true
   },
   "outputs": [],
   "source": [
    "def apply_sub(row, label):\n",
    "    if row[label] >= 0.5:\n",
    "        return 1\n",
    "    else:\n",
    "        return 0\n",
    "\n",
    "test_df['prediction'] = test_df.apply(lambda x: apply_sub(x, 'prediction'), axis = 1)"
   ]
  },
  {
   "cell_type": "markdown",
   "metadata": {},
   "source": [
    "## Verify model"
   ]
  },
  {
   "cell_type": "code",
   "execution_count": null,
   "metadata": {},
   "outputs": [],
   "source": [
    "answer = pd.read_csv('titanicAns.csv')\n",
    "accuracy = 1.0 - sum(abs(answer['survived'] - test_df['prediction'])) / test_df.shape[0]\n",
    "print('Accuracy: %f %%'%(accuracy*100))"
   ]
  },
  {
   "cell_type": "markdown",
   "metadata": {},
   "source": [
    "### dump accuracy"
   ]
  },
  {
   "cell_type": "code",
   "execution_count": null,
   "metadata": {
    "scrolled": true
   },
   "outputs": [],
   "source": [
    "with open('log.txt', 'a') as flog:\n",
    "    flog.write('RESULT:\\n\\tDropout:\\t%.3f\\n\\tepochs:\\n\\t%ilearning_rate:\\t%f\\n\\tAccuracy:\\t%f %%\\n'%(DROPOUT_RATIO, epochs, learning_rate, accuracy*100))"
   ]
  },
  {
   "cell_type": "code",
   "execution_count": null,
   "metadata": {},
   "outputs": [],
   "source": [
    "with open('log.txt', 'r') as flog:\n",
    "    print(flog.read())"
   ]
  },
  {
   "cell_type": "code",
   "execution_count": null,
   "metadata": {},
   "outputs": [],
   "source": []
  }
 ],
 "metadata": {
  "kernelspec": {
   "display_name": "Python 3",
   "language": "python",
   "name": "python3"
  },
  "language_info": {
   "codemirror_mode": {
    "name": "ipython",
    "version": 3
   },
   "file_extension": ".py",
   "mimetype": "text/x-python",
   "name": "python",
   "nbconvert_exporter": "python",
   "pygments_lexer": "ipython3",
   "version": "3.6.4"
  }
 },
 "nbformat": 4,
 "nbformat_minor": 2
}
